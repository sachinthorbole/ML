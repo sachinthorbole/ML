{
 "cells": [
  {
   "cell_type": "code",
   "execution_count": null,
   "id": "1b3834e3",
   "metadata": {},
   "outputs": [],
   "source": [
    "# 1.Perform necessary EDA on the data\n",
    "#First we will read the data with the help of pandas\n",
    "import pandas as pd\n",
    "df = pd.read_csv('Freelance Platform Projects.csv')\n",
    "df.head()"
   ]
  },
  {
   "cell_type": "raw",
   "id": "ed1577b7",
   "metadata": {},
   "source": [
    "# We will find the shape of the dataset\n",
    "df.shape\n"
   ]
  },
  {
   "cell_type": "markdown",
   "id": "57c3c1ce",
   "metadata": {},
   "source": []
  },
  {
   "cell_type": "code",
   "execution_count": null,
   "id": "8b7f7fda",
   "metadata": {},
   "outputs": [],
   "source": [
    "\n",
    "# We will find the datatype of each column\n",
    "df.info()"
   ]
  },
  {
   "cell_type": "code",
   "execution_count": null,
   "id": "7e4931bc",
   "metadata": {},
   "outputs": [],
   "source": [
    "# We will also check the number of null values in each column\n",
    "df.isnull().sum()\n"
   ]
  },
  {
   "cell_type": "code",
   "execution_count": null,
   "id": "c9c98462",
   "metadata": {},
   "outputs": [],
   "source": [
    "# First we will find the mode of the columns and store them in a variable\n",
    "mode1 = df['Duration'].mode()\n",
    "mode2 = df['Client Job Title'].mode()"
   ]
  },
  {
   "cell_type": "code",
   "execution_count": null,
   "id": "afb4b97b",
   "metadata": {},
   "outputs": [],
   "source": [
    "# Filling null values with the found mode stored in variables\n",
    "df['Duration'] = df['Duration'].fillna(mode1[0])\n",
    "df['Client Job Title'] = df['Client Job Title'].fillna(mode2[0])\n"
   ]
  },
  {
   "cell_type": "code",
   "execution_count": null,
   "id": "af5b050b",
   "metadata": {},
   "outputs": [],
   "source": [
    "\n",
    "# we will again cross check the null values.\n",
    "df[['Duration', 'Client Job Title']].info()"
   ]
  },
  {
   "cell_type": "code",
   "execution_count": null,
   "id": "c3141878",
   "metadata": {},
   "outputs": [],
   "source": [
    "\n",
    "# We will find the number of unique values in the dataset\n",
    "df.apply(lambda x:x.nunique())\n"
   ]
  },
  {
   "cell_type": "code",
   "execution_count": null,
   "id": "913b0750",
   "metadata": {},
   "outputs": [],
   "source": [
    "\n",
    "# As our Selected variables have obejct data type so we will perfrom Labelencoding to convert it in\n",
    "# First we will store the required columns name in a variable\n",
    "col = ['Experience', 'Currency', 'Type', 'Location', 'Sub Category Name', \n",
    "       'Budget', 'Duration', 'Client Currency','Client Country']\n",
    "# Now we will perform Label Encoding on the variable\n",
    "from sklearn.preprocessing import LabelEncoder\n",
    "lab = LabelEncoder()\n",
    "df[col] = df[col].apply(lab.fit_transform)\n"
   ]
  },
  {
   "cell_type": "code",
   "execution_count": null,
   "id": "d2c71885",
   "metadata": {},
   "outputs": [],
   "source": [
    "# we will check the correlation of the variables\n",
    "df.corr()"
   ]
  },
  {
   "cell_type": "code",
   "execution_count": null,
   "id": "5582cc4b",
   "metadata": {},
   "outputs": [],
   "source": [
    "# Now we will convert the old dataset with our required data set named 'Project.csv'\n",
    "df.to_csv('Project.csv', index=False)"
   ]
  },
  {
   "cell_type": "code",
   "execution_count": null,
   "id": "63e9f8f1",
   "metadata": {},
   "outputs": [],
   "source": [
    "\n",
    "# Now we will read our new dataset\n",
    "df=pd.read_csv(\"project.csv\")\n",
    "df.head()\n"
   ]
  },
  {
   "cell_type": "code",
   "execution_count": null,
   "id": "a35e7ded",
   "metadata": {},
   "outputs": [],
   "source": [
    "# We will define the values of x and y\n",
    "x=df[['Experience', 'Currency', 'Type', 'Location', 'Sub Category Name', 'Duration', \n",
    "      'Client Currency', 'Client Country']]\n",
    "y=df['Budget']"
   ]
  },
  {
   "cell_type": "code",
   "execution_count": null,
   "id": "930ffdb9",
   "metadata": {},
   "outputs": [],
   "source": [
    "# Import the train_test_split from sklearn to perform the task\n",
    "from sklearn.model_selection import train_test_split\n",
    "xtrain,xtest,ytrain,ytest=train_test_split(x,y,train_size=0.8,random_state=40)"
   ]
  },
  {
   "cell_type": "code",
   "execution_count": null,
   "id": "0e65b840",
   "metadata": {},
   "outputs": [],
   "source": [
    "# Import LinerRegression for prediction\n",
    "from sklearn.linear_model import LinearRegression\n",
    "model = LinearRegression()\n",
    "model.fit(xtrain, ytrain)\n",
    "pred=model.predict(xtest)\n",
    "pred[:7]"
   ]
  },
  {
   "cell_type": "code",
   "execution_count": null,
   "id": "1885189c",
   "metadata": {},
   "outputs": [],
   "source": [
    "# Calculate the Mean Squared Error\n",
    "from sklearn.metrics import r2_score, mean_squared_error\n",
    "mse = mean_squared_error(ytest,pred)\n",
    "mse"
   ]
  },
  {
   "cell_type": "code",
   "execution_count": null,
   "id": "c7413ec1",
   "metadata": {},
   "outputs": [],
   "source": [
    "# calculate the r2 value\n",
    "r2 = r2_score(ytest, pred)\n",
    "r2\n"
   ]
  },
  {
   "cell_type": "code",
   "execution_count": null,
   "id": "c5ab8d04",
   "metadata": {},
   "outputs": [],
   "source": [
    "# We are importing the required libraries to perform the task\n",
    "import pandas as pd\n",
    "from sklearn.model_selection import train_test_split\n",
    "from sklearn.tree import DecisionTreeClassifier\n",
    "from sklearn.metrics import classification_report"
   ]
  },
  {
   "cell_type": "code",
   "execution_count": null,
   "id": "fadd8d51",
   "metadata": {},
   "outputs": [],
   "source": [
    "# we define the value of x and y\n",
    "x=df[['Experience', 'Currency', 'Location', 'Sub Category Name', \n",
    "      'Duration', 'Client Country']]\n",
    "y=df['Type']"
   ]
  },
  {
   "cell_type": "code",
   "execution_count": null,
   "id": "28687e94",
   "metadata": {},
   "outputs": [],
   "source": [
    "# We define the value of train and test\n",
    "xtrain, xtest, ytrain, ytest = train_test_split(x, y, train_size=0.8, random_state=42)"
   ]
  },
  {
   "cell_type": "code",
   "execution_count": null,
   "id": "9b9b6cb0",
   "metadata": {},
   "outputs": [],
   "source": [
    "# Predict the data\n",
    "model = DecisionTreeClassifier()\n",
    "model.fit(xtrain, ytrain)\n",
    "pred = model.predict(xtest)\n",
    "pred[:100]"
   ]
  },
  {
   "cell_type": "code",
   "execution_count": null,
   "id": "a9b3e624",
   "metadata": {},
   "outputs": [],
   "source": [
    "# we will make a report of classification\n",
    "report = classification_report(ytest, pred)\n",
    "report"
   ]
  },
  {
   "cell_type": "code",
   "execution_count": null,
   "id": "e0a625cf",
   "metadata": {},
   "outputs": [],
   "source": []
  }
 ],
 "metadata": {
  "kernelspec": {
   "display_name": "Python 3 (ipykernel)",
   "language": "python",
   "name": "python3"
  },
  "language_info": {
   "codemirror_mode": {
    "name": "ipython",
    "version": 3
   },
   "file_extension": ".py",
   "mimetype": "text/x-python",
   "name": "python",
   "nbconvert_exporter": "python",
   "pygments_lexer": "ipython3",
   "version": "3.10.7"
  }
 },
 "nbformat": 4,
 "nbformat_minor": 5
}
